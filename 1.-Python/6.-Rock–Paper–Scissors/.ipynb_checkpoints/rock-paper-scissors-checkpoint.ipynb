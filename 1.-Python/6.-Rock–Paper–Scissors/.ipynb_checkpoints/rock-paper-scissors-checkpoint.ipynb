{
 "cells": [
  {
   "cell_type": "markdown",
   "metadata": {},
   "source": [
    "<img src=\"https://bit.ly/2VnXWr2\" width=\"100\" align=\"left\">"
   ]
  },
  {
   "cell_type": "markdown",
   "metadata": {},
   "source": [
    "# Rock, Paper & Scissors\n",
    "\n",
    "Let's play the famous game against our computer. You can check the rules [here](https://en.wikipedia.org/wiki/Rock%E2%80%93paper%E2%80%93scissors). \n",
    "\n",
    "## Task\n",
    "Create a program that imitates the playability of the well known game of rock, paper, scissors. Follow the guidelines provided.\n",
    "\n",
    "## Tools\n",
    "1. Loop: **for/while**\n",
    "2. Functions: **input(), print()...**\n",
    "3. Conditional statements: **if, elif, else**\n",
    "4. Definition of functions. Modular programming\n",
    "5. Import modules\n",
    "\n",
    "**To solve this challenge, the use of functions is recommended.**\n",
    "\n",
    "#### 1. Import the choice function of the random module."
   ]
  },
  {
   "cell_type": "code",
   "execution_count": null,
   "metadata": {},
   "outputs": [],
   "source": [
    "import random"
   ]
  },
  {
   "cell_type": "markdown",
   "metadata": {},
   "source": [
    "#### 2. Create a list that includes the 3 possible gesture options of the game: 'rock', 'paper' or 'scissors'. Store the list in a variable called `gestures`."
   ]
  },
  {
   "cell_type": "code",
   "execution_count": null,
   "metadata": {},
   "outputs": [],
   "source": [
    "gestures = ['Rock', 'Paper', 'Scissors']"
   ]
  },
  {
   "cell_type": "markdown",
   "metadata": {},
   "source": [
    "#### 3. Create a variable called `n_rounds` to store the maximum number of rounds to play in a game. \n",
    "Remember that the number of rounds must be odd: 1, 3, 5, ..."
   ]
  },
  {
   "cell_type": "code",
   "execution_count": null,
   "metadata": {},
   "outputs": [],
   "source": [
    "n_rounds = 5"
   ]
  },
  {
   "cell_type": "markdown",
   "metadata": {},
   "source": [
    "#### 4. Create a variable called `rounds_to_win` to store the number of rounds that a player must win to win the game.\n",
    "**Hint**: the value stored in `rounds_to_win` depends on the value of `n_rounds`. "
   ]
  },
  {
   "cell_type": "code",
   "execution_count": null,
   "metadata": {},
   "outputs": [],
   "source": [
    "rounds_to_win = round(n_rounds/2+ 0.5)"
   ]
  },
  {
   "cell_type": "markdown",
   "metadata": {},
   "source": [
    "#### 5. Create two variables to store the number of rounds that the computer and the player have won. Call these variables `cpu_score` and `player_score`."
   ]
  },
  {
   "cell_type": "code",
   "execution_count": null,
   "metadata": {},
   "outputs": [],
   "source": [
    "cpu_score = 0\n",
    "player_score = 0 "
   ]
  },
  {
   "cell_type": "markdown",
   "metadata": {},
   "source": [
    "#### 6. Define a function that randomly returns one of the 3 gesture options.\n",
    "You will use this function to simulate the gesture choice of the computer. "
   ]
  },
  {
   "cell_type": "code",
   "execution_count": null,
   "metadata": {},
   "outputs": [],
   "source": [
    "def choice_pc (): \n",
    "    pc = random.randint(1, 3)\n",
    "    if pc == 1: \n",
    "        work = 'Rock'\n",
    "    elif pc == 2 : \n",
    "        work = 'Paper'\n",
    "    else: \n",
    "        work = 'Scissor'\n",
    "    return work"
   ]
  },
  {
   "cell_type": "markdown",
   "metadata": {},
   "source": [
    "#### 7. Define a function that asks the player which is the gesture he or she wants to show: 'rock', 'paper' or 'scissors'.\n",
    "The player should only be allowed to choose one of the 3 gesture options. If the player's choice is not rock, paper or scissors, keep asking until it is."
   ]
  },
  {
   "cell_type": "code",
   "execution_count": null,
   "metadata": {},
   "outputs": [],
   "source": [
    "def player_pick ():\n",
    "    while True: \n",
    "        print(\"Enter your choice \\n 1. Rock \\n 2. Paper \\n 3. Scissor\")\n",
    "        choice = int(input(\"User turn: \"))\n",
    "\n",
    "        while choice > 3 or choice < 1: \n",
    "            choice = int(input(\"enter valid input: \"))\n",
    "\n",
    "        if choice == 1: \n",
    "            choice_name = \"Rock\"\n",
    "            break\n",
    "        elif choice == 2: \n",
    "            choice_name = \"Paper\"\n",
    "            break\n",
    "        elif choice == 3: \n",
    "            choice_name = \"Scissor\"\n",
    "            break\n",
    "    return choice_name "
   ]
  },
  {
   "cell_type": "markdown",
   "metadata": {},
   "source": [
    "#### 8. Define a function that checks who won a round. \n",
    "The function should return 0 if there is a tie, 1 if the computer wins and 2 if the player wins."
   ]
  },
  {
   "cell_type": "code",
   "execution_count": null,
   "metadata": {},
   "outputs": [],
   "source": [
    "def game (): \n",
    "    total = 1 \n",
    "    comp_choice = random.randrange(0, 3)\n",
    "    if comp_choice == 0: \n",
    "        answers = 'Rock'\n",
    "    elif comp_choice == 1:\n",
    "        answers = 'Paper'\n",
    "    elif comp_choice == 2: \n",
    "        answers =  'Scissors'\n",
    "    while total < 2: \n",
    "        player = input(\" Please choose a number \\n 0: Rock \\n 1: Paper \\n 2: Scissors \\n Your number is: \")\n",
    "        if player == '0' : \n",
    "            solution = 'Rock'\n",
    "            total += 1\n",
    "        elif player == '1': \n",
    "            solution = 'Paper'\n",
    "            total += 1\n",
    "        elif player == '2': \n",
    "            solution = 'Scissors'\n",
    "            total += 1\n",
    "        else: \n",
    "            print(\"Invalid\")\n",
    "    if answers == solution: \n",
    "        return \"0\"\n",
    "    else : \n",
    "        if answers == 'Rock' and solution == 'Scissors':\n",
    "            return \"1\"\n",
    "        elif answers == 'Paper' and solution == 'Rock':\n",
    "            return \"1\"\n",
    "        elif answers == 'Scissors' and solution == 'Paper': \n",
    "            return \"1\"\n",
    "        else:\n",
    "            return \"2\""
   ]
  },
  {
   "cell_type": "markdown",
   "metadata": {},
   "source": [
    "#### 9. Define a function that prints the choice of the computer, the choice of the player and a message that announces who won the current round. \n",
    "You should also use this function to update the variables that count the number of rounds that the computer and the player have won. The score of the winner increases by one point. If there is a tie, the score does not increase."
   ]
  },
  {
   "cell_type": "code",
   "execution_count": null,
   "metadata": {},
   "outputs": [],
   "source": [
    "def game_two (): \n",
    "    n_rounds = int(input(\"How many rounds do you want to play? \\n Please give a number: \"))\n",
    "    rounds_to_win = round(n_rounds/2+ 0.5)\n",
    "    cp_wins = 0 \n",
    "    player_wins = 0\n",
    "    tie_game = 0 \n",
    "    rondes = 0 \n",
    "    for i in range(0, n_rounds): \n",
    "        comp_choice = random.randrange(1, 4)\n",
    "        if comp_choice == 1: \n",
    "            answers = 'Rock'\n",
    "        elif comp_choice == 2:\n",
    "            answers = 'Paper'\n",
    "        elif comp_choice == 3: \n",
    "            answers =  'Scissors'\n",
    "        player = int(input(\" Please choose a number \\n 1: Rock \\n 2: Paper \\n 3: Scissors \\n Your number is: \"))\n",
    "        if player == 1 : \n",
    "            solution = 'Rock'\n",
    "            rondes += 1\n",
    "        elif player == 2: \n",
    "            solution = 'Paper'\n",
    "            rondes += 1\n",
    "        elif player == 3: \n",
    "            solution = 'Scissors'\n",
    "            rondes += 1\n",
    "        else: \n",
    "            print(\"Invalid\")\n",
    "        if answers == solution: \n",
    "            tie_game += 1\n",
    "            print(\" It's a tie game and nobody has won round \"+str(i))\n",
    "            print(\" -----> Total wins computer = \"+str(cp_wins))\n",
    "            print(\" -----> Total wins Player = \"+str(player_wins))\n",
    "        else : \n",
    "            if answers == 'Rock' and solution == 'Scissors':\n",
    "                cp_wins += 1\n",
    "                print(\" The computer has won round \"+str(i))\n",
    "                print(\" -----> Total wins computer = \"+str(cp_wins))\n",
    "                print(\" -----> Total wins Player = \"+str(player_wins))\n",
    "            elif answers == 'Paper' and solution == 'Rock':\n",
    "                cp_wins += 1\n",
    "                print(\" The computer has won round \"+str(i))\n",
    "                print(\" -----> Total wins computer = \"+str(cp_wins))\n",
    "                print(\" -----> Total wins Player = \"+str(player_wins))\n",
    "            elif answers == 'Scissors' and solution == 'Paper': \n",
    "                cp_wins += 1\n",
    "                print(\" The computer has won round \"+str(i))\n",
    "                print(\" -----> Total wins computer = \"+str(cp_wins))\n",
    "                print(\" -----> Total wins Player = \"+str(player_wins))\n",
    "            else:\n",
    "                player_wins += 1\n",
    "                print(\" You have won the round \"+str(i))\n",
    "                print(\" -----> Total wins computer = \"+str(cp_wins))\n",
    "                print(\" -----> Total wins Player = \"+str(player_wins))"
   ]
  },
  {
   "cell_type": "markdown",
   "metadata": {},
   "source": [
    "#### 10. Now it's time to code the execution of the game using the functions and variables you defined above. \n",
    "\n",
    "First, create a loop structure that repeats while no player reaches the minimum score necessary to win and the number of rounds is less than the maximum number of rounds to play in a game.  \n",
    "\n",
    "Inside the loop, use the functions and variables above to create the execution of a round: ask for the player's choice, generate the random choice of the computer, show the round results, update the scores, etc. "
   ]
  },
  {
   "cell_type": "code",
   "execution_count": null,
   "metadata": {},
   "outputs": [],
   "source": [
    "def game_two (): \n",
    "    n_rounds = int(input(\"How many rounds do you want to play? \\n Please give a number: \"))\n",
    "    rounds_to_win = round(n_rounds/2+ 0.5)\n",
    "    cp_wins = 0 \n",
    "    player_wins = 0\n",
    "    tie_game = 0 \n",
    "    rondes = 0 \n",
    "    for i in range(0, n_rounds): \n",
    "        comp_choice = random.randrange(1, 4)\n",
    "        if comp_choice == 1: \n",
    "            answers = 'Rock'\n",
    "        elif comp_choice == 2:\n",
    "            answers = 'Paper'\n",
    "        elif comp_choice == 3: \n",
    "            answers =  'Scissors'\n",
    "        player = int(input(\" Please choose a number \\n 1: Rock \\n 2: Paper \\n 3: Scissors \\n Your number is: \"))\n",
    "        if player == 1 : \n",
    "            solution = 'Rock'\n",
    "            rondes += 1\n",
    "        elif player == 2: \n",
    "            solution = 'Paper'\n",
    "            rondes += 1\n",
    "        elif player == 3: \n",
    "            solution = 'Scissors'\n",
    "            rondes += 1\n",
    "        else: \n",
    "            print(\"Invalid\")\n",
    "        if answers == solution: \n",
    "            tie_game += 1\n",
    "            print(\" It's a tie game and nobody has won round \"+str(i))\n",
    "            print(\" -----> Total wins computer = \"+str(cp_wins))\n",
    "            print(\" -----> Total wins Player = \"+str(player_wins))\n",
    "        else : \n",
    "            if answers == 'Rock' and solution == 'Scissors':\n",
    "                cp_wins += 1\n",
    "                print(\" The computer has won round \"+str(i))\n",
    "                print(\" -----> Total wins computer = \"+str(cp_wins))\n",
    "                print(\" -----> Total wins Player = \"+str(player_wins))\n",
    "            elif answers == 'Paper' and solution == 'Rock':\n",
    "                cp_wins += 1\n",
    "                print(\" The computer has won round \"+str(i))\n",
    "                print(\" -----> Total wins computer = \"+str(cp_wins))\n",
    "                print(\" -----> Total wins Player = \"+str(player_wins))\n",
    "            elif answers == 'Scissors' and solution == 'Paper': \n",
    "                cp_wins += 1\n",
    "                print(\" The computer has won round \"+str(i))\n",
    "                print(\" -----> Total wins computer = \"+str(cp_wins))\n",
    "                print(\" -----> Total wins Player = \"+str(player_wins))\n",
    "            else:\n",
    "                player_wins += 1\n",
    "                print(\" You have won the round \"+str(i))\n",
    "                print(\" -----> Total wins computer = \"+str(cp_wins))\n",
    "                print(\" -----> Total wins Player = \"+str(player_wins))"
   ]
  },
  {
   "cell_type": "markdown",
   "metadata": {},
   "source": [
    "#### 11. Print the winner of the game based on who won more rounds.\n",
    "Remember that the game might be tied. "
   ]
  },
  {
   "cell_type": "code",
   "execution_count": null,
   "metadata": {},
   "outputs": [],
   "source": [
    "def game_two (): \n",
    "    n_rounds = int(input(\"How many rounds do you want to play? \\n Please give a number: \"))\n",
    "    rounds_to_win = round(n_rounds/2+ 0.5)\n",
    "    cp_wins = 0 \n",
    "    player_wins = 0\n",
    "    tie_game = 0 \n",
    "    rondes = 0 \n",
    "    while rondes < n_rounds:\n",
    "        for i in range(0, n_rounds): \n",
    "            comp_choice = random.randrange(1, 4)\n",
    "            if comp_choice == 1: \n",
    "                answers = 'Rock'\n",
    "            elif comp_choice == 2:\n",
    "                answers = 'Paper'\n",
    "            elif comp_choice == 3: \n",
    "                answers =  'Scissors'\n",
    "            player = int(input(\" Please choose a number \\n 1: Rock \\n 2: Paper \\n 3: Scissors \\n Your number is: \"))\n",
    "            if player == 1 : \n",
    "                solution = 'Rock'\n",
    "                rondes += 1\n",
    "            elif player == 2: \n",
    "                solution = 'Paper'\n",
    "                rondes += 1\n",
    "            elif player == 3: \n",
    "                solution = 'Scissors'\n",
    "                rondes += 1\n",
    "            else: \n",
    "                print(\"Invalid\")\n",
    "            if answers == solution: \n",
    "                tie_game += 1\n",
    "                print(\" It's a tie game and nobody has won round \"+str(i))\n",
    "                print(\" -----> Total wins computer = \"+str(cp_wins))\n",
    "                print(\" -----> Total wins Player = \"+str(player_wins))\n",
    "            else : \n",
    "                if answers == 'Rock' and solution == 'Scissors':\n",
    "                    cp_wins += 1\n",
    "                    rondes += 1\n",
    "                    print(\" The computer has won round \"+str(i))\n",
    "                    print(\" -----> Total wins computer = \"+str(cp_wins))\n",
    "                    print(\" -----> Total wins Player = \"+str(player_wins))\n",
    "                elif answers == 'Paper' and solution == 'Rock':\n",
    "                    cp_wins += 1\n",
    "                    rondes += 1\n",
    "                    print(\" The computer has won round \"+str(i))\n",
    "                    print(\" -----> Total wins computer = \"+str(cp_wins))\n",
    "                    print(\" -----> Total wins Player = \"+str(player_wins))\n",
    "                elif answers == 'Scissors' and solution == 'Paper': \n",
    "                    cp_wins += 1\n",
    "                    rondes += 1\n",
    "                    print(\" The computer has won round \"+str(i))\n",
    "                    print(\" -----> Total wins computer = \"+str(cp_wins))\n",
    "                    print(\" -----> Total wins Player = \"+str(player_wins))\n",
    "                else:\n",
    "                    player_wins += 1\n",
    "                    rondes += 1\n",
    "                    print(\" You have won the round \"+str(i))\n",
    "                    print(\" -----> Total wins computer = \"+str(cp_wins))\n",
    "                    print(\" -----> Total wins Player = \"+str(player_wins))\n",
    "    else: \n",
    "        if cp_wins > player_wins: \n",
    "            return \"The computer has won this battle!! \"\n",
    "        elif player_wins > cp_wins: \n",
    "            return \"Congratz, you have beat the computer!\"\n",
    "        else: \n",
    "            return \"It was a tie game!!\""
   ]
  },
  {
   "cell_type": "markdown",
   "metadata": {},
   "source": [
    "# Bonus: Rock, Paper, Scissors, Lizard & Spock\n",
    "![](images/rpsls.jpg)\n",
    "\n",
    "In this challenge, you need to improve the previous game by adding two new options. To know more about the rules of the improved version of rock, paper, scissors, check this [link](http://www.samkass.com/theories/RPSSL.html). \n",
    "\n",
    "In addition, you will also need to improve how the game interacts with the player: the number of rounds to play, which must be an odd number, will be requested to the user until a valid number is entered. Define a new function to make that request.\n",
    "\n",
    "**Hint**: Try to reuse the code that you already coded in the previous challenge. If your code is efficient, this bonus will only consist of simple modifications to the original game."
   ]
  },
  {
   "cell_type": "code",
   "execution_count": null,
   "metadata": {},
   "outputs": [],
   "source": []
  }
 ],
 "metadata": {
  "kernelspec": {
   "display_name": "Python 3",
   "language": "python",
   "name": "python3"
  },
  "language_info": {
   "codemirror_mode": {
    "name": "ipython",
    "version": 3
   },
   "file_extension": ".py",
   "mimetype": "text/x-python",
   "name": "python",
   "nbconvert_exporter": "python",
   "pygments_lexer": "ipython3",
   "version": "3.8.2"
  }
 },
 "nbformat": 4,
 "nbformat_minor": 2
}
