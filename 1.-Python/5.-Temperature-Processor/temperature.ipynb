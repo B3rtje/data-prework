{
 "cells": [
  {
   "cell_type": "markdown",
   "metadata": {},
   "source": [
    "<img src=\"https://bit.ly/2VnXWr2\" width=\"100\" align=\"left\">"
   ]
  },
  {
   "cell_type": "markdown",
   "metadata": {},
   "source": [
    "# Temperature Sensor\n",
    "\n",
    "There is a temperature sensor in the processor of your company's server. The company wants to analyze the data provided by the sensor to decide if they should change the cooling system for a better one. As changing the cooling system is expensive and you are an excellent data analyst, you can't make a decision without basis.\n",
    "\n",
    "## Tools\n",
    "You don't necessarily need to use all the tools. Maybe you opt to use some of them or completely different ones, they are given to help you shape the exercise. Programming exercises can be solved in many different ways.\n",
    "1. Data structures: **lists**\n",
    "2. Loops: **list comprehension**\n",
    "3. Functions: **min, max, print, len**\n",
    "4. Conditional statements: **if-elif-else**\n",
    "\n",
    "## Tasks\n",
    "The temperatures measured throughout the 24 hours of a day are:"
   ]
  },
  {
   "cell_type": "code",
   "execution_count": null,
   "metadata": {},
   "outputs": [],
   "source": [
    "temperatures_C = [33, 66, 65, 0, 59, 60, 62, 64, 70, 76, 80, 81, 80, 83, 90, 79, 61, 53, 50, 49, 53, 48, 45, 39]"
   ]
  },
  {
   "cell_type": "markdown",
   "metadata": {},
   "source": [
    "The first element of the list is the temperature at 12am, the second element is the temperature at 1am, and so on. \n",
    "\n",
    "The company has decided that if one of the following events occurs, then the cooling system needs to be replaced for a new one to avoid damaging the processor.\n",
    "* More than 4 temperatures are greater than or equal to 70ºC.\n",
    "* Any temperature is above 80ºC.\n",
    "* The average temperature exceeds 65ºC.\n",
    "\n",
    "Follow the steps so that you can make the decision.\n",
    "\n",
    "#### 1. Find the minimum temperature of the day and store it in a variable."
   ]
  },
  {
   "cell_type": "code",
   "execution_count": 1,
   "metadata": {},
   "outputs": [
    {
     "name": "stdout",
     "output_type": "stream",
     "text": [
      "0\n"
     ]
    }
   ],
   "source": [
    "temperatures_C = [33, 66, 65, 0, 59, 60, 62, 64, 70, 76, 80, 81, 80, 83, 90, 79, 61, 53, 50, 49, 53, 48, 45, 39]\n",
    "\n",
    "minimum_temp = min(temperatures_C)\n",
    "print(minimum_temp)"
   ]
  },
  {
   "cell_type": "markdown",
   "metadata": {},
   "source": [
    "#### 2. Find the maximum temperature of the day and store it in a variable."
   ]
  },
  {
   "cell_type": "code",
   "execution_count": 2,
   "metadata": {},
   "outputs": [
    {
     "name": "stdout",
     "output_type": "stream",
     "text": [
      "90\n"
     ]
    }
   ],
   "source": [
    "temperatures_C = [33, 66, 65, 0, 59, 60, 62, 64, 70, 76, 80, 81, 80, 83, 90, 79, 61, 53, 50, 49, 53, 48, 45, 39]\n",
    "\n",
    "maximum_temp = max(temperatures_C)\n",
    "print(maximum_temp)"
   ]
  },
  {
   "cell_type": "markdown",
   "metadata": {},
   "source": [
    "#### 3. Create a list with the temperatures that are greater than or equal to 70ºC. Store it in a variable."
   ]
  },
  {
   "cell_type": "code",
   "execution_count": 3,
   "metadata": {},
   "outputs": [
    {
     "name": "stdout",
     "output_type": "stream",
     "text": [
      "[70, 76, 80, 81, 80, 83, 90, 79]\n"
     ]
    }
   ],
   "source": [
    "temperatures_C = [33, 66, 65, 0, 59, 60, 62, 64, 70, 76, 80, 81, 80, 83, 90, 79, 61, 53, 50, 49, 53, 48, 45, 39]\n",
    "\n",
    "def higher_than_70 ():\n",
    "    temp_higher_70 = []\n",
    "    for temperature in temperatures_C: \n",
    "        if temperature >= 70: \n",
    "            temp_higher_70.append(temperature)\n",
    "    return temp_higher_70"
   ]
  },
  {
   "cell_type": "markdown",
   "metadata": {},
   "source": [
    "#### 4. Find the average temperature of the day and store it in a variable."
   ]
  },
  {
   "cell_type": "code",
   "execution_count": 4,
   "metadata": {},
   "outputs": [
    {
     "name": "stdout",
     "output_type": "stream",
     "text": [
      "60.25\n"
     ]
    }
   ],
   "source": [
    "temperatures_C = [33, 66, 65, 0, 59, 60, 62, 64, 70, 76, 80, 81, 80, 83, 90, 79, 61, 53, 50, 49, 53, 48, 45, 39]\n",
    "\n",
    "import math\n",
    "\n",
    "def Average(lst): \n",
    "    return sum(lst) / len(lst) \n",
    "\n",
    "average_temp = Average(temperatures_C)\n",
    "print(average_temp)"
   ]
  },
  {
   "cell_type": "markdown",
   "metadata": {},
   "source": [
    "#### 5. Imagine that there was a sensor failure at 3am and the data for that specific hour was not recorded. How would you estimate the missing value? Replace the current value of the list at 3am for an estimation. "
   ]
  },
  {
   "cell_type": "code",
   "execution_count": null,
   "metadata": {},
   "outputs": [],
   "source": [
    "\n",
    "temperatures_C = [33, 66, 65, 0, 59, 60, 62, 64, 70, 76, 80, 81, 80, 83, 90, 79, 61, 53, 50, 49, 53, 48, 45, 39]\n",
    "time = [12, 13, 14, 15, 16, 17, 18, 19, 20, 21, 22, 23, 0, 1, 2, 3, 4, 5, 6, 7, 8, 9, 10, 11]\n",
    "\n",
    "#Please replace 'hour' in the function by the missing hour\n",
    "\n",
    "def missing_temp (hour): \n",
    "    tempera = 0 \n",
    "    for uur in time : \n",
    "        if uur == hour and uur != 0: \n",
    "            num1 = uur-1\n",
    "            num2 = uur+1\n",
    "            index_num1 = time.index(num1)\n",
    "            index_num2 = time.index(num2)\n",
    "            num_one = temperatures_C[index_num1]\n",
    "            num_two = temperatures_C[index_num2]\n",
    "            tempera = (num_one+num_two)/2\n",
    "            solution = tempera\n",
    "        elif uur == hour and uur == 0 :\n",
    "            num1 = 23\n",
    "            num2 = uur+1\n",
    "            index_num1 = time.index(num1)\n",
    "            index_num2 = time.index(num2)\n",
    "            num_one = temperatures_C[index_num1]\n",
    "            num_two = temperatures_C[index_num2]\n",
    "            tempera = (num_one+num_two)/2\n",
    "            solution = tempera\n",
    "        elif hour < 0: \n",
    "            solution = \"You have entered a negative number!\"\n",
    "            break\n",
    "        elif hour > 23: \n",
    "            solution = \"Your number is too high!\"\n",
    "            break\n",
    "\n",
    "    return solution"
   ]
  },
  {
   "cell_type": "markdown",
   "metadata": {},
   "source": [
    "#### 6. Bonus: the maintenance staff is from the United States and does not understand the international metric system. Help them by converting the temperatures from Celsius to Fahrenheit.\n",
    "To know more about temperature conversion check this [link](https://en.wikipedia.org/wiki/Conversion_of_units_of_temperature).\n",
    "\n",
    "**Formula**: \n",
    "\n",
    "$F = 1.8 * C + 32$"
   ]
  },
  {
   "cell_type": "code",
   "execution_count": 1,
   "metadata": {},
   "outputs": [
    {
     "name": "stdout",
     "output_type": "stream",
     "text": [
      "[91.4, 150.8, 149.0, 32.0, 138.2, 140.0, 143.6, 147.2, 158.0, 168.8, 176.0, 177.8, 176.0, 181.4, 194.0, 174.2, 141.8, 127.4, 122.0, 120.2, 127.4, 118.4, 113.0, 102.2]\n"
     ]
    }
   ],
   "source": [
    "temperatures_C = [33, 66, 65, 0, 59, 60, 62, 64, 70, 76, 80, 81, 80, 83, 90, 79, 61, 53, 50, 49, 53, 48, 45, 39]\n",
    "\n",
    "def temp_to_F(list): \n",
    "    fahrenheit = []\n",
    "    for temp in list:\n",
    "        new = 1.8*temp+32\n",
    "        rounding = round(new, 2)\n",
    "        fahrenheit.append(rounding)\n",
    "    return(fahrenheit) \n",
    "\n",
    "print(temp_to_F(temperatures_C))"
   ]
  },
  {
   "cell_type": "markdown",
   "metadata": {},
   "source": [
    "#### 7. Make a decision!\n",
    "Now it's time to make a decision taking into account what you have seen until now. \n",
    "\n",
    "Remember that if one of the following events occurs, then the cooling system needs to be replaced for a new one to avoid damaging the processor.\n",
    "* More than 4 temperatures are greater than or equal to 70ºC.\n",
    "* Any temperature is above 80ºC.\n",
    "* The average temperature exceeds 65ºC.\n",
    "\n",
    "#### To make your decision, check if any of the three conditions above is met. You might need to use some of the variables you created in steps 1 to 6. Print a message to show if the cooling system needs to be changed or not."
   ]
  },
  {
   "cell_type": "code",
   "execution_count": 6,
   "metadata": {},
   "outputs": [
    {
     "name": "stdout",
     "output_type": "stream",
     "text": [
      "You need to replace the system!\n"
     ]
    }
   ],
   "source": [
    "temperatures_C = [33, 66, 65, 0, 59, 60, 62, 64, 70, 76, 80, 81, 80, 83, 90, 79, 61, 53, 50, 49, 53, 48, 45, 39]\n",
    "\n",
    "minimum_temp = min(temperatures_C)\n",
    "\n",
    "maximum_temp = max(temperatures_C)\n",
    "\n",
    "temp_higher_70 = []\n",
    "\n",
    "for temperature in temperatures_C: \n",
    "    if temperature >= 70: \n",
    "        temp_higher_70.append(temperature)\n",
    "\n",
    "import math\n",
    "\n",
    "def Average(lst): \n",
    "    return sum(lst) / len(lst) \n",
    "\n",
    "average_temp = Average(temperatures_C)\n",
    "\n",
    "def replace_or_not (list): \n",
    "    if max(list) > 80 or average_temp >= 65 or len(temp_higher_70) > 4 :\n",
    "        return (\"You need to replace the system!\")\n",
    "    else: \n",
    "        return (\"You don't need to replace the system!\")\n",
    "    \n",
    "print(replace_or_not(temperatures_C))"
   ]
  },
  {
   "cell_type": "markdown",
   "metadata": {},
   "source": [
    "## Bonus\n",
    "\n",
    "The company has decided that the decision you made is not valid. They want you to analyze the data again but this time, the conditions that need to be met in order to change the cooling system are different.\n",
    "\n",
    "This time, if one of the following events occurs, then the cooling system needs to be replaced:\n",
    "* The temperature is greater than 70ºC during more than 4 consecutive hours.\n",
    "* Any temperature is above 80ºC.\n",
    "* The average temperature exceeds 65ºC.\n",
    "\n",
    "Follow the steps so that you can make the decision.\n",
    "\n",
    "#### 1. Create a list with the hours where the temperature is greater than 70ºC. Store it in a variable."
   ]
  },
  {
   "cell_type": "code",
   "execution_count": 7,
   "metadata": {},
   "outputs": [
    {
     "name": "stdout",
     "output_type": "stream",
     "text": [
      "['21u', '22u', '23u', '0u', '1u', '2u', '3u']\n"
     ]
    }
   ],
   "source": [
    "temperatures_C = [33, 66, 65, 0, 59, 60, 62, 64, 70, 76, 80, 81, 80, 83, 90, 79, 61, 53, 50, 49, 53, 48, 45, 39]\n",
    "time = [\"12u\", \"13u\", \"14u\", \"15u\", \"16u\", \"17u\", \"18u\", \"19u\", \"20u\", \"21u\", \"22u\", \"23u\", \"0u\", \"1u\", \"2u\", \"3u\", \"4u\", \"5u\", \"6u\", \"7u\", \"8u\", \"9u\", \"10u\", \"11u\"]\n",
    "\n",
    "connect = list(zip(time, temperatures_C))\n",
    "\n",
    "hours_above_70 = []\n",
    "\n",
    "for temperature in connect: \n",
    "    if temperature[1] > 70 : \n",
    "        hours_above_70.append(temperature[0])\n",
    "\n",
    "print(hours_above_70)"
   ]
  },
  {
   "cell_type": "markdown",
   "metadata": {},
   "source": [
    "#### 2. Check if the list you created in step 1 has more than 4 consecutive hours. "
   ]
  },
  {
   "cell_type": "code",
   "execution_count": 3,
   "metadata": {},
   "outputs": [],
   "source": [
    "temperatures_C = [33, 66, 65, 0, 59, 60, 62, 64, 70, 76, 80, 81, 80, 83, 90, 79, 61, 53, 50, 49, 53, 48, 45, 39]\n",
    "\n",
    "def more_than_four ():\n",
    "    count = 0 \n",
    "    for num, temp in enumerate(temperatures_C, start=0): \n",
    "        if temp >= 70 :\n",
    "            number_one = num\n",
    "            number_two = num+1\n",
    "            number_three = num-1\n",
    "            if temp >=70 and temperatures_C[number_two] >= 70 or temp >= 70 and temperatures_C[number_three] >= 70: \n",
    "                count += 1\n",
    "                if count == 4: \n",
    "                    answer = \"You need to replace the system\"\n",
    "                    break\n",
    "        else: \n",
    "            count = count*0\n",
    "            answer = \"You don't need to replace the system!\"\n",
    "    return answer"
   ]
  },
  {
   "cell_type": "markdown",
   "metadata": {},
   "source": [
    "#### 3. Make the decision!\n",
    "To make your decision, check if any of the three conditions is met. Print a message to show if the cooling system needs to be changed or not."
   ]
  },
  {
   "cell_type": "code",
   "execution_count": null,
   "metadata": {},
   "outputs": [],
   "source": [
    "temperatures_C = [33, 66, 65, 0, 59, 60, 62, 64, 70, 76, 80, 81, 80, 83, 90, 79, 61, 53, 50, 49, 53, 48, 45, 39]\n",
    "time = [\"12u\", \"13u\", \"14u\", \"15u\", \"16u\", \"17u\", \"18u\", \"19u\", \"20u\", \"21u\", \"22u\", \"23u\", \"0u\", \"1u\", \"2u\", \"3u\", \"4u\", \"5u\", \"6u\", \"7u\", \"8u\", \"9u\", \"10u\", \"11u\"]\n",
    "\n",
    "def more_than_four ():\n",
    "    count = 0 \n",
    "    for num, temp in enumerate(temperatures_C, start=0): \n",
    "        if temp >= 70 :\n",
    "            number_one = num\n",
    "            number_two = num+1\n",
    "            number_three = num-1\n",
    "            if temp >=70 and temperatures_C[number_two] >= 70 or temp >= 70 and temperatures_C[number_three] >= 70: \n",
    "                count += 1\n",
    "                if count == 4: \n",
    "                    answer = True\n",
    "                    break\n",
    "        else: \n",
    "            count = count*0\n",
    "            answer = False\n",
    "    return answer\n",
    "\n",
    "\n",
    "def max_temperature (): \n",
    "    highest_temp = max(temperatures_C)\n",
    "    if highest_temp > 80 : \n",
    "        return True \n",
    "    else: \n",
    "        return False \n",
    "\n",
    "        \n",
    "def average_temperature (): \n",
    "    average = sum(temperatures_C)/len(temperatures_C)\n",
    "    if average > 65: \n",
    "        return True\n",
    "    else: \n",
    "        return False \n",
    "\n",
    "\n",
    "\n",
    "\n",
    "def replace_or_not ():\n",
    "    if more_than_four == True or max_temperature() == True or average_temperature() == True : \n",
    "        return \"You need a new system!\"\n",
    "    else: \n",
    "        return \"System is OK\"\n",
    "\n",
    "print(replace_or_not())\n"
   ]
  },
  {
   "cell_type": "markdown",
   "metadata": {},
   "source": [
    "#### 4. Find the average value of the temperature lists (ºC and ºF). What is the relation between both average values?"
   ]
  },
  {
   "cell_type": "code",
   "execution_count": 8,
   "metadata": {},
   "outputs": [
    {
     "name": "stdout",
     "output_type": "stream",
     "text": [
      "the average temperature in Celcisus: 60.25\n",
      "the average temperature in Fahrenheit: 140.45\n"
     ]
    }
   ],
   "source": [
    "temperatures_C = [33, 66, 65, 0, 59, 60, 62, 64, 70, 76, 80, 81, 80, 83, 90, 79, 61, 53, 50, 49, 53, 48, 45, 39]\n",
    "def temp_to_F(list): \n",
    "    fahrenheit = []\n",
    "    for temp in list:\n",
    "        new = 1.8*temp+32\n",
    "        fahrenheit.append(new)\n",
    "    return(fahrenheit) \n",
    "\n",
    "fahrenheit = temp_to_F(temperatures_C)\n",
    "\n",
    "import math\n",
    "\n",
    "def Average(lst): \n",
    "    return sum(lst) / len(lst) \n",
    "\n",
    "average_temp_celcius = Average(temperatures_C)\n",
    "print(\"the average temperature in Celcisus: \"+str(average_temp_celcius))\n",
    "\n",
    "average_temp_fahrenheit = Average(fahrenheit)\n",
    "print(\"the average temperature in Fahrenheit: \"+str(average_temp_fahrenheit))\n",
    "\n",
    "#The relation is that they are the same if you convert! But you can say that for the temperatures measures in Celius the average in Fahrenheit = 140.45"
   ]
  },
  {
   "cell_type": "markdown",
   "metadata": {},
   "source": [
    "#### 5. Find the standard deviation of the temperature lists (ºC and ºF). What is the relation between both standard deviations?"
   ]
  },
  {
   "cell_type": "code",
   "execution_count": 9,
   "metadata": {},
   "outputs": [
    {
     "name": "stdout",
     "output_type": "stream",
     "text": [
      "19.285681216902866\n",
      "34.71422619042516\n"
     ]
    }
   ],
   "source": [
    "temperatures_C = [33, 66, 65, 0, 59, 60, 62, 64, 70, 76, 80, 81, 80, 83, 90, 79, 61, 53, 50, 49, 53, 48, 45, 39]\n",
    "time = [\"12u\", \"13u\", \"14u\", \"15u\", \"16u\", \"17u\", \"18u\", \"19u\", \"20u\", \"21u\", \"22u\", \"23u\", \"0u\", \"1u\", \"2u\", \"3u\", \"4u\", \"5u\", \"6u\", \"7u\", \"8u\", \"9u\", \"10u\", \"11u\"]\n",
    "\n",
    "connect = list(zip(time, temperatures_C))\n",
    "\n",
    "\n",
    "temperatures_C = [33, 66, 65, 0, 59, 60, 62, 64, 70, 76, 80, 81, 80, 83, 90, 79, 61, 53, 50, 49, 53, 48, 45, 39]\n",
    "def temp_to_F(list): \n",
    "    fahrenheit = []\n",
    "    for temp in list:\n",
    "        new = 1.8*temp+32\n",
    "        fahrenheit.append(new)\n",
    "    return(fahrenheit) \n",
    "\n",
    "fahrenheit = temp_to_F(temperatures_C)\n",
    "\n",
    "import math\n",
    "\n",
    "def Average(lst): \n",
    "    return sum(lst) / len(lst) \n",
    "\n",
    "average_temp_c = Average(temperatures_C)\n",
    "#print(\"The Average is = \"+str(average_temp_c))\n",
    "average_temp_f = Average(fahrenheit)\n",
    "#print(\"The Average in F is = \"+str(average_temp_f))\n",
    "\n",
    "def standard_var (list1, average_1):\n",
    "    total = 0 \n",
    "    total2 = 1\n",
    "    for index in list1: \n",
    "        test = (index - average_1)**2\n",
    "        total += test \n",
    "    total2 = total/len(list1)\n",
    "    return(math.sqrt(total2))\n",
    "\n",
    "print(standard_var(temperatures_C, average_temp_c))\n",
    "print(standard_var(fahrenheit, average_temp_f))"
   ]
  },
  {
   "cell_type": "code",
   "execution_count": null,
   "metadata": {},
   "outputs": [],
   "source": []
  }
 ],
 "metadata": {
  "kernelspec": {
   "display_name": "Python 3",
   "language": "python",
   "name": "python3"
  },
  "language_info": {
   "codemirror_mode": {
    "name": "ipython",
    "version": 3
   },
   "file_extension": ".py",
   "mimetype": "text/x-python",
   "name": "python",
   "nbconvert_exporter": "python",
   "pygments_lexer": "ipython3",
   "version": "3.8.2"
  }
 },
 "nbformat": 4,
 "nbformat_minor": 2
}
